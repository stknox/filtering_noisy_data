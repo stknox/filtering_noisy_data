{
 "cells": [
  {
   "cell_type": "markdown",
   "metadata": {},
   "source": [
    "#### Data Manipulation\n",
    "\n",
    "You should do substantive work on at least six subsets of the data. \n",
    "\n",
    "- 3 sets of 10% of the data from the UCI Madelon set\n",
    "- 3 sets of 10% of the data from the Madelon set made available by your instructors (20000 rows, 1001 columns)\n",
    "\n",
    "##### Jupyter Notebook, EDA \n",
    "\n",
    "- perform EDA on each set as you see necessary"
   ]
  },
  {
   "cell_type": "code",
   "execution_count": 22,
   "metadata": {
    "collapsed": true
   },
   "outputs": [],
   "source": [
    "# !conda install psycopg2 --yes\n",
    "import psycopg2 as pg2\n",
    "from psycopg2.extras import RealDictCursor\n",
    "import pandas as pd\n",
    "import numpy as np\n",
    "import seaborn as sns\n",
    "import matplotlib.pyplot as plt\n",
    "from sklearn.model_selection import train_test_split\n",
    "from sklearn.neighbors import KNeighborsRegressor\n",
    "from sklearn.tree import DecisionTreeRegressor\n",
    "%matplotlib inline\n",
    "# !pip install tqdm\n",
    "from tqdm import tqdm\n",
    "import pickle\n"
   ]
  },
  {
   "cell_type": "code",
   "execution_count": 23,
   "metadata": {
    "collapsed": true
   },
   "outputs": [],
   "source": [
    "# import UCI madelon data and set the nan column to labels\n",
    "\n",
    "def import_and_labels(data, labels):\n",
    "    \n",
    "    data = data\n",
    "    labels = labels\n",
    "    madelon_train = pd.read_csv(data, delimiter=' ', header=None)\n",
    "    madelon_labels = pd.read_csv(labels, delimiter=' ', header=None)\n",
    "    madelon_train[500] = madelon_labels\n",
    "\n",
    "    return madelon_train"
   ]
  },
  {
   "cell_type": "code",
   "execution_count": 24,
   "metadata": {
    "collapsed": true
   },
   "outputs": [],
   "source": [
    "madelon_train = import_and_labels('madelon_train.data.csv','madelon_train.labels.csv')"
   ]
  },
  {
   "cell_type": "code",
   "execution_count": 25,
   "metadata": {
    "collapsed": true
   },
   "outputs": [],
   "source": [
    "# generate 3 random samples of 10% each from UCI Madelon\n",
    "\n",
    "np.random.seed(42)\n",
    "UCIsample1 = madelon_train.sample(200)\n",
    "UCIsample2 = madelon_train.sample(200)\n",
    "UCIsample3 = madelon_train.sample(200)"
   ]
  },
  {
   "cell_type": "code",
   "execution_count": null,
   "metadata": {
    "collapsed": true
   },
   "outputs": [],
   "source": [
    "# pull 3 random samples of 1% each from the class madelon database\n",
    "\n",
    "def con_cur_to_class_db():\n",
    "    con = pg2.connect(host='34.211.227.227',\n",
    "                  dbname='postgres',\n",
    "                  user='postgres')\n",
    "    cur = con.cursor(cursor_factory=RealDictCursor)\n",
    "    return con, cur\n",
    "\n",
    "def draw_sample():\n",
    "    con, cur = con_cur_to_class_db()\n",
    "    cur.execute('SELECT * FROM madelon ORDER BY random() LIMIT 3000;')\n",
    "    mad_db = cur.fetchall()\n",
    "    con.close()\n",
    "    return pd.DataFrame(mad_db)"
   ]
  },
  {
   "cell_type": "code",
   "execution_count": null,
   "metadata": {
    "collapsed": true
   },
   "outputs": [],
   "source": [
    "# DBsample = draw_sample()\n",
    "# pickle.dump(DBsample, open('DBsample', \"wb\" ) )"
   ]
  },
  {
   "cell_type": "code",
   "execution_count": 26,
   "metadata": {},
   "outputs": [
    {
     "data": {
      "text/plain": [
       "(3000, 1001)"
      ]
     },
     "execution_count": 26,
     "metadata": {},
     "output_type": "execute_result"
    }
   ],
   "source": [
    "DBsample = pickle.load( open( \"DBsample\", \"rb\" ) )\n",
    "\n",
    "# drop the seemingly unneeded ID column\n",
    "DBsample.drop('_id', axis=1, inplace=True)\n",
    "DBsample.shape"
   ]
  },
  {
   "cell_type": "code",
   "execution_count": 27,
   "metadata": {
    "collapsed": true
   },
   "outputs": [],
   "source": [
    "DBsample1 = DBsample.iloc[0:1000,:]\n",
    "DBsample2 = DBsample.iloc[1000:2000,:]\n",
    "DBsample3 = DBsample.iloc[2000:3001,:]"
   ]
  },
  {
   "cell_type": "code",
   "execution_count": null,
   "metadata": {
    "collapsed": true
   },
   "outputs": [],
   "source": [
    "# use decisiontree and kneighborsregression to determine noise in the samples\n",
    "\n",
    "def calculate_r_2_for_feature(data, feature, regression_method):\n",
    "    new_data = data.drop(feature, axis=1)\n",
    "\n",
    "    X_train, X_test, y_train, y_test = train_test_split(new_data,data[feature],test_size=0.25)\n",
    "\n",
    "    regressor = regression_method\n",
    "    regressor.fit(X_train,y_train)\n",
    "\n",
    "    score = regressor.score(X_test,y_test)\n",
    "    return score\n",
    "\n",
    "def mean_r2_for_feature(data, feature, regression_method):\n",
    "    scores = []\n",
    "    for _ in range(3):\n",
    "        scores.append(calculate_r_2_for_feature(data, feature, regression_method))\n",
    "    scores = np.array(scores)\n",
    "    if scores.mean() > 0:\n",
    "        return(feature)\n",
    "    else:\n",
    "        return 0\n",
    "\n",
    "def return_features(data, regression_method):\n",
    "    feature_list = []\n",
    "    for i in range(len(data.columns)):\n",
    "        feature_list.append(mean_r2_for_feature(data, i, regression_method))\n",
    "    return feature_list"
   ]
  },
  {
   "cell_type": "code",
   "execution_count": null,
   "metadata": {
    "collapsed": true
   },
   "outputs": [],
   "source": [
    "# due to the time it took to run, I ran these and saved the results in a list shown later below\n",
    "# feature_list_KN1 = return_features(UCIsample1, KNeighborsRegressor())\n",
    "# feature_list_KN2 = return_features(UCIsample1, DecisionTreeRegressor())\n",
    "# feature_list_KN3 = return_features(UCIsample2, KNeighborsRegressor())\n",
    "# feature_list_DT1 = return_features(UCIsample2, DecisionTreeRegressor())\n",
    "# feature_list_DT2 = return_features(UCIsample3, KNeighborsRegressor())\n",
    "# feature_list_DT3 = return_features(UCIsample3, DecisionTreeRegressor())"
   ]
  },
  {
   "cell_type": "code",
   "execution_count": null,
   "metadata": {
    "collapsed": true
   },
   "outputs": [],
   "source": [
    "# minor changes had to be made to the functions to allow them to process Josh's Madelon samples w/ different indexes\n",
    "\n",
    "def calculate_r_2_for_feature(data, feature, regression_method):\n",
    "    new_data = data.drop(feature, axis=1)\n",
    "\n",
    "    X_train, X_test, y_train, y_test = train_test_split(new_data,data[feature],test_size=0.25)\n",
    "\n",
    "    regressor = regression_method\n",
    "    regressor.fit(X_train,y_train)\n",
    "\n",
    "    score = regressor.score(X_test,y_test)\n",
    "    return score\n",
    "\n",
    "def mean_r2_for_feature(data, feature, regression_method):\n",
    "    scores = []\n",
    "    for _ in range(3):\n",
    "        scores.append(calculate_r_2_for_feature(data, feature, regression_method))\n",
    "    scores = np.array(scores)\n",
    "    if scores.mean() > 0:\n",
    "        return(feature, scores.mean())\n",
    "\n",
    "def return_features(data, regression_method):\n",
    "    feature_list = []\n",
    "    for i in tqdm(data.columns):\n",
    "        feature_list.append((i, mean_r2_for_feature(data, i, regression_method)))\n",
    "    return feature_list"
   ]
  },
  {
   "cell_type": "code",
   "execution_count": null,
   "metadata": {
    "collapsed": true
   },
   "outputs": [],
   "source": [
    "# relevant features saved below\n",
    "# feature_list_KN1 = return_features(DBsample1.sample(200), KNeighborsRegressor())\n",
    "# feature_list_KN2 = return_features(DBsample2.sample(200), KNeighborsRegressor())\n",
    "# feature_list_KN3 = return_features(DBsample3.sample(200), KNeighborsRegressor())\n",
    "# feature_list_DT1 = return_features(DBsample1.sample(200), DecisionTreeRegressor())\n",
    "# feature_list_DT2 = return_features(DBsample2.sample(200), DecisionTreeRegressor())\n",
    "# feature_list_DT3 = return_features(DBsample3.sample(200), DecisionTreeRegressor())"
   ]
  },
  {
   "cell_type": "code",
   "execution_count": 34,
   "metadata": {
    "collapsed": true
   },
   "outputs": [],
   "source": [
    "# eliminate noise in the samples\n",
    "# here are the feature lists output by the R2 method.  note that more than 20 results showed up for several of the DB\n",
    "# sample lists, so I included them all here with the expectation that further feature selection and modeling will \n",
    "# eliminate them\n",
    "\n",
    "pickle.dump(UCIsample1, open('UCIsample1', \"wb\" ) )\n",
    "pickle.dump(UCIsample2, open('UCIsample2', \"wb\" ) )\n",
    "pickle.dump(UCIsample3, open('UCIsample3', \"wb\" ) )\n",
    "pickle.dump(DBsample1, open('DBsample1', \"wb\" ) )\n",
    "pickle.dump(DBsample2, open('DBsample2', \"wb\" ) )\n",
    "pickle.dump(DBsample3, open('DBsample3', \"wb\" ) )\n",
    "\n",
    "UCIsample_list = [28,48,64,105,128,153,241,281,318,336,338,378,433,442,451,453,455,472,475,493,500]\n",
    "DBsample_list = ['feat_257','feat_269','feat_308','feat_315',\\\n",
    "                 'feat_336','feat_341','feat_395','feat_504','feat_526','feat_639','feat_681',\\\n",
    "                 'feat_701','feat_724','feat_736','feat_769','feat_808','feat_829','feat_867','feat_920',\\\n",
    "                 'feat_956','target']\n",
    "\n",
    "def drop_noise(df, signal_list):\n",
    "    temp_df = df\n",
    "    for column in temp_df.columns:\n",
    "        if column not in signal_list:\n",
    "            temp_df.drop(column, axis=1, inplace=True)\n",
    "    return temp_df"
   ]
  },
  {
   "cell_type": "code",
   "execution_count": 35,
   "metadata": {},
   "outputs": [
    {
     "name": "stderr",
     "output_type": "stream",
     "text": [
      "/opt/conda/lib/python3.6/site-packages/ipykernel_launcher.py:20: SettingWithCopyWarning: \n",
      "A value is trying to be set on a copy of a slice from a DataFrame\n",
      "\n",
      "See the caveats in the documentation: http://pandas.pydata.org/pandas-docs/stable/indexing.html#indexing-view-versus-copy\n"
     ]
    }
   ],
   "source": [
    "UCIsample1_clean = drop_noise(UCIsample1, UCIsample_list)\n",
    "UCIsample2_clean = drop_noise(UCIsample2, UCIsample_list)\n",
    "UCIsample3_clean = drop_noise(UCIsample3, UCIsample_list)\n",
    "DBsample1_clean = drop_noise(DBsample1, DBsample_list)\n",
    "DBsample2_clean = drop_noise(DBsample2, DBsample_list)\n",
    "DBsample3_clean = drop_noise(DBsample3, DBsample_list)"
   ]
  },
  {
   "cell_type": "code",
   "execution_count": 40,
   "metadata": {},
   "outputs": [
    {
     "data": {
      "text/html": [
       "<div>\n",
       "<table border=\"1\" class=\"dataframe\">\n",
       "  <thead>\n",
       "    <tr style=\"text-align: right;\">\n",
       "      <th></th>\n",
       "      <th>feat_257</th>\n",
       "      <th>feat_269</th>\n",
       "      <th>feat_308</th>\n",
       "      <th>feat_315</th>\n",
       "      <th>feat_336</th>\n",
       "      <th>feat_341</th>\n",
       "      <th>feat_395</th>\n",
       "      <th>feat_504</th>\n",
       "      <th>feat_526</th>\n",
       "      <th>feat_639</th>\n",
       "      <th>...</th>\n",
       "      <th>feat_701</th>\n",
       "      <th>feat_724</th>\n",
       "      <th>feat_736</th>\n",
       "      <th>feat_769</th>\n",
       "      <th>feat_808</th>\n",
       "      <th>feat_829</th>\n",
       "      <th>feat_867</th>\n",
       "      <th>feat_920</th>\n",
       "      <th>feat_956</th>\n",
       "      <th>target</th>\n",
       "    </tr>\n",
       "  </thead>\n",
       "  <tbody>\n",
       "    <tr>\n",
       "      <th>2000</th>\n",
       "      <td>0.077185</td>\n",
       "      <td>0.724953</td>\n",
       "      <td>1.451919</td>\n",
       "      <td>0.222816</td>\n",
       "      <td>-2.671703</td>\n",
       "      <td>-2.788843</td>\n",
       "      <td>-2.930196</td>\n",
       "      <td>-2.776659</td>\n",
       "      <td>1.894507</td>\n",
       "      <td>-2.579466</td>\n",
       "      <td>...</td>\n",
       "      <td>-2.106660</td>\n",
       "      <td>1.959709</td>\n",
       "      <td>-2.105096</td>\n",
       "      <td>0.987539</td>\n",
       "      <td>-0.173542</td>\n",
       "      <td>-1.309707</td>\n",
       "      <td>1.977380</td>\n",
       "      <td>-0.560210</td>\n",
       "      <td>-1.713323</td>\n",
       "      <td>0</td>\n",
       "    </tr>\n",
       "    <tr>\n",
       "      <th>2001</th>\n",
       "      <td>-0.458983</td>\n",
       "      <td>6.315434</td>\n",
       "      <td>-0.263639</td>\n",
       "      <td>3.464669</td>\n",
       "      <td>1.334163</td>\n",
       "      <td>4.482667</td>\n",
       "      <td>2.553172</td>\n",
       "      <td>0.189120</td>\n",
       "      <td>0.705362</td>\n",
       "      <td>-0.480131</td>\n",
       "      <td>...</td>\n",
       "      <td>-5.165145</td>\n",
       "      <td>-3.380224</td>\n",
       "      <td>2.416505</td>\n",
       "      <td>-1.960566</td>\n",
       "      <td>-0.581636</td>\n",
       "      <td>3.073353</td>\n",
       "      <td>1.683694</td>\n",
       "      <td>-3.315520</td>\n",
       "      <td>-0.651008</td>\n",
       "      <td>0</td>\n",
       "    </tr>\n",
       "    <tr>\n",
       "      <th>2002</th>\n",
       "      <td>-2.931058</td>\n",
       "      <td>2.267584</td>\n",
       "      <td>-1.754548</td>\n",
       "      <td>2.593913</td>\n",
       "      <td>-0.587585</td>\n",
       "      <td>0.113437</td>\n",
       "      <td>2.734551</td>\n",
       "      <td>-0.643102</td>\n",
       "      <td>0.170425</td>\n",
       "      <td>-2.114823</td>\n",
       "      <td>...</td>\n",
       "      <td>-1.677454</td>\n",
       "      <td>-2.761319</td>\n",
       "      <td>2.006122</td>\n",
       "      <td>-0.885269</td>\n",
       "      <td>0.963534</td>\n",
       "      <td>-2.755311</td>\n",
       "      <td>0.476961</td>\n",
       "      <td>0.912386</td>\n",
       "      <td>-2.474002</td>\n",
       "      <td>0</td>\n",
       "    </tr>\n",
       "    <tr>\n",
       "      <th>2003</th>\n",
       "      <td>-1.477788</td>\n",
       "      <td>-3.664489</td>\n",
       "      <td>-0.695112</td>\n",
       "      <td>-0.294983</td>\n",
       "      <td>-2.190510</td>\n",
       "      <td>-3.020389</td>\n",
       "      <td>-0.203724</td>\n",
       "      <td>1.897029</td>\n",
       "      <td>-0.034787</td>\n",
       "      <td>-0.392432</td>\n",
       "      <td>...</td>\n",
       "      <td>1.912592</td>\n",
       "      <td>-0.000522</td>\n",
       "      <td>-1.023399</td>\n",
       "      <td>2.343162</td>\n",
       "      <td>1.995171</td>\n",
       "      <td>-2.187725</td>\n",
       "      <td>0.183902</td>\n",
       "      <td>1.256132</td>\n",
       "      <td>-0.813963</td>\n",
       "      <td>1</td>\n",
       "    </tr>\n",
       "    <tr>\n",
       "      <th>2004</th>\n",
       "      <td>2.061357</td>\n",
       "      <td>-0.859231</td>\n",
       "      <td>-1.821543</td>\n",
       "      <td>-0.334201</td>\n",
       "      <td>0.997277</td>\n",
       "      <td>-1.525705</td>\n",
       "      <td>-2.155599</td>\n",
       "      <td>-0.842014</td>\n",
       "      <td>2.211915</td>\n",
       "      <td>0.024668</td>\n",
       "      <td>...</td>\n",
       "      <td>-0.617800</td>\n",
       "      <td>3.551031</td>\n",
       "      <td>0.358455</td>\n",
       "      <td>1.983522</td>\n",
       "      <td>-2.079605</td>\n",
       "      <td>1.548041</td>\n",
       "      <td>-0.461750</td>\n",
       "      <td>0.044153</td>\n",
       "      <td>0.160922</td>\n",
       "      <td>1</td>\n",
       "    </tr>\n",
       "  </tbody>\n",
       "</table>\n",
       "<p>5 rows × 21 columns</p>\n",
       "</div>"
      ],
      "text/plain": [
       "      feat_257  feat_269  feat_308  feat_315  feat_336  feat_341  feat_395  \\\n",
       "2000  0.077185  0.724953  1.451919  0.222816 -2.671703 -2.788843 -2.930196   \n",
       "2001 -0.458983  6.315434 -0.263639  3.464669  1.334163  4.482667  2.553172   \n",
       "2002 -2.931058  2.267584 -1.754548  2.593913 -0.587585  0.113437  2.734551   \n",
       "2003 -1.477788 -3.664489 -0.695112 -0.294983 -2.190510 -3.020389 -0.203724   \n",
       "2004  2.061357 -0.859231 -1.821543 -0.334201  0.997277 -1.525705 -2.155599   \n",
       "\n",
       "      feat_504  feat_526  feat_639   ...    feat_701  feat_724  feat_736  \\\n",
       "2000 -2.776659  1.894507 -2.579466   ...   -2.106660  1.959709 -2.105096   \n",
       "2001  0.189120  0.705362 -0.480131   ...   -5.165145 -3.380224  2.416505   \n",
       "2002 -0.643102  0.170425 -2.114823   ...   -1.677454 -2.761319  2.006122   \n",
       "2003  1.897029 -0.034787 -0.392432   ...    1.912592 -0.000522 -1.023399   \n",
       "2004 -0.842014  2.211915  0.024668   ...   -0.617800  3.551031  0.358455   \n",
       "\n",
       "      feat_769  feat_808  feat_829  feat_867  feat_920  feat_956  target  \n",
       "2000  0.987539 -0.173542 -1.309707  1.977380 -0.560210 -1.713323       0  \n",
       "2001 -1.960566 -0.581636  3.073353  1.683694 -3.315520 -0.651008       0  \n",
       "2002 -0.885269  0.963534 -2.755311  0.476961  0.912386 -2.474002       0  \n",
       "2003  2.343162  1.995171 -2.187725  0.183902  1.256132 -0.813963       1  \n",
       "2004  1.983522 -2.079605  1.548041 -0.461750  0.044153  0.160922       1  \n",
       "\n",
       "[5 rows x 21 columns]"
      ]
     },
     "execution_count": 40,
     "metadata": {},
     "output_type": "execute_result"
    }
   ],
   "source": [
    "DBsample3_clean.head()"
   ]
  },
  {
   "cell_type": "code",
   "execution_count": 39,
   "metadata": {
    "collapsed": true
   },
   "outputs": [],
   "source": [
    "# save noiseless/clean samples and noisy samples.  what a relief!\n",
    "\n",
    "pickle.dump(UCIsample1_clean, open('UCIsample1_clean', \"wb\" ) )\n",
    "pickle.dump(UCIsample2_clean, open('UCIsample2_clean', \"wb\" ) )\n",
    "pickle.dump(UCIsample3_clean, open('UCIsample3_clean', \"wb\" ) )\n",
    "pickle.dump(DBsample1_clean, open('DBsample1_clean', \"wb\" ) )\n",
    "pickle.dump(DBsample2_clean, open('DBsample2_clean', \"wb\" ) )\n",
    "pickle.dump(DBsample3_clean, open('DBsample3_clean', \"wb\" ) )\n",
    "\n"
   ]
  },
  {
   "cell_type": "code",
   "execution_count": null,
   "metadata": {
    "collapsed": true
   },
   "outputs": [],
   "source": []
  }
 ],
 "metadata": {
  "kernelspec": {
   "display_name": "Python 3",
   "language": "python",
   "name": "python3"
  },
  "language_info": {
   "codemirror_mode": {
    "name": "ipython",
    "version": 3
   },
   "file_extension": ".py",
   "mimetype": "text/x-python",
   "name": "python",
   "nbconvert_exporter": "python",
   "pygments_lexer": "ipython3",
   "version": "3.6.2"
  }
 },
 "nbformat": 4,
 "nbformat_minor": 2
}
