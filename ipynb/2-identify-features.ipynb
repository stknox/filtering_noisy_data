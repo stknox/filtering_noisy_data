{
 "cells": [
  {
   "cell_type": "markdown",
   "metadata": {},
   "source": [
    "##### Jupyter Notebook, Step 2 - Identify Features\n",
    "- Build feature selection pipelines using at least three different techniques\n",
    "- **NOTE**: these pipelines are being used for feature selection not prediction"
   ]
  },
  {
   "cell_type": "code",
   "execution_count": 1,
   "metadata": {},
   "outputs": [],
   "source": [
    "import pandas as pd\n",
    "import numpy as np\n",
    "import seaborn as sns\n",
    "import matplotlib.pyplot as plt\n",
    "from sklearn.model_selection import train_test_split\n",
    "%matplotlib inline\n",
    "from tqdm import tqdm\n",
    "import pickle\n",
    "from sklearn.pipeline import Pipeline\n",
    "\n",
    "UCIsample1_clean = pickle.load( open( \"UCIsample1_clean\", \"rb\" ) )\n",
    "UCIsample2_clean = pickle.load( open( \"UCIsample2_clean\", \"rb\" ) )\n",
    "UCIsample3_clean = pickle.load( open( \"UCIsample3_clean\", \"rb\" ) )\n",
    "DBsample1_clean = pickle.load( open( \"DBsample1_clean\", \"rb\" ) )\n",
    "DBsample2_clean = pickle.load( open( \"DBsample2_clean\", \"rb\" ) )\n",
    "DBsample3_clean = pickle.load( open( \"DBsample3_clean\", \"rb\" ) )\n",
    "\n",
    "UCIsample1 = pickle.load( open( \"UCIsample1\", \"rb\" ) )\n",
    "UCIsample2 = pickle.load( open( \"UCIsample2\", \"rb\" ) )\n",
    "UCIsample3 = pickle.load( open( \"UCIsample3\", \"rb\" ) )\n",
    "DBsample1 = pickle.load( open( \"DBsample1\", \"rb\" ) )\n",
    "DBsample2 = pickle.load( open( \"DBsample2\", \"rb\" ) )\n",
    "DBsample3 = pickle.load( open( \"DBsample3\", \"rb\" ) )\n",
    "\n",
    "sample_list = [UCIsample1_clean, UCIsample2_clean, UCIsample3_clean, \\\n",
    "               DBsample1_clean, DBsample2_clean, DBsample3_clean]\n",
    "sample_names = ['UCIsample1_clean', 'UCIsample2_clean', 'UCIsample3_clean', \\\n",
    "                'DBsample1_clean', 'DBsample2_clean', 'DBsample3_clean']\n",
    "sample_list_noise = [UCIsample1, UCIsample2, UCIsample3, \\\n",
    "               DBsample1, DBsample2, DBsample3]\n",
    "sample_names_noise = ['UCIsample1', 'UCIsample2', 'UCIsample3', \\\n",
    "                'DBsample1', 'DBsample2', 'DBsample3']\n",
    "\n",
    "UCIsample1_clean.name = 'UCIsample1_clean'\n",
    "UCIsample2_clean.name = 'UCIsample2_clean'\n",
    "UCIsample3_clean.name = 'UCIsample3_clean'\n",
    "DBsample1_clean.name = 'DBsample1_clean' \n",
    "DBsample2_clean.name = 'DBsample2_clean' \n",
    "DBsample3_clean.name = 'DBsample3_clean'\n",
    "UCIsample1.name = 'UCIsample1'\n",
    "UCIsample2.name = 'UCIsample2'\n",
    "UCIsample3.name = 'UCIsample3'\n",
    "DBsample1.name = 'DBsample1' \n",
    "DBsample2.name = 'DBsample2' \n",
    "DBsample3.name = 'DBsample3'"
   ]
  },
  {
   "cell_type": "code",
   "execution_count": 25,
   "metadata": {},
   "outputs": [],
   "source": [
    "from sklearn.feature_selection import SelectFromModel, SelectKBest, SelectPercentile, f_classif\n",
    "from sklearn.ensemble import RandomForestClassifier\n",
    "from sklearn.preprocessing import StandardScaler\n",
    "from sklearn.model_selection import GridSearchCV\n",
    "from sklearn.linear_model import LogisticRegression\n",
    "\n",
    "sfm = Pipeline([\n",
    "    ('feature_selection', SelectFromModel(LogisticRegression(), threshold=0.05))])\n",
    "skb = Pipeline([\n",
    "    ('feature_selection', SelectKBest(score_func=f_classif, k=5))])\n",
    "sp = Pipeline([\n",
    "    ('feature_selection', SelectPercentile(percentile=25))])\n",
    "\n",
    "sfm_scaled = Pipeline([\n",
    "    ('scaling', StandardScaler()), ('feature_selection', SelectFromModel(LogisticRegression(), threshold=0.05))])\n",
    "skb_scaled = Pipeline([\n",
    "    ('scaling', StandardScaler()), ('feature_selection', SelectKBest(score_func=f_classif, k=5))])\n",
    "sp_scaled = Pipeline([\n",
    "    ('scaling', StandardScaler()), ('feature_selection', SelectPercentile(percentile=25))])\n",
    "\n",
    "sfm_params = {'feature_selection__threshold':[i for i in np.linspace(.01,.1,5)]}\n",
    "skb_params = {'feature_selection__k':[3,4,5,6,7,8,9,10,11,12]}\n",
    "sp_params = {'feature_selection__percentile':[10,25,50,75,90]}\n",
    "\n",
    "sfm_scaled_gs = GridSearchCV(sfm_scaled, sfm_params, cv=2)\n",
    "skb_scaled_gs = GridSearchCV(skb_scaled, skb_params, cv=2)\n",
    "sp_scaled_gs = GridSearchCV(sp_scaled, sp_params, cv=2)\n",
    "\n",
    "def fit_sample_model(sample, model):\n",
    "    y = sample.iloc[:,-1]\n",
    "    X = sample.iloc[:,0:-1]\n",
    "    return model.fit(X, y), np.where(model.named_steps['feature_selection'].get_support())[0]"
   ]
  },
  {
   "cell_type": "code",
   "execution_count": 26,
   "metadata": {
    "scrolled": true
   },
   "outputs": [
    {
     "data": {
      "text/plain": [
       "'DB SKB features'"
      ]
     },
     "metadata": {},
     "output_type": "display_data"
    },
    {
     "data": {
      "text/plain": [
       "[1, 5, 10, 11, 14, 15, 16, 18]"
      ]
     },
     "metadata": {},
     "output_type": "display_data"
    },
    {
     "data": {
      "text/plain": [
       "'UCI SKB features'"
      ]
     },
     "metadata": {},
     "output_type": "display_data"
    },
    {
     "data": {
      "text/plain": [
       "[2, 3, 4, 6, 9, 10, 13, 15, 18, 19]"
      ]
     },
     "metadata": {},
     "output_type": "display_data"
    }
   ],
   "source": [
    "a1, db1 = fit_sample_model(DBsample1_clean, skb_scaled)\n",
    "a2, db2 = fit_sample_model(DBsample2_clean, skb_scaled)\n",
    "a3, db3 = fit_sample_model(DBsample3_clean, skb_scaled)\n",
    "a11, uci1 = fit_sample_model(UCIsample1_clean, skb_scaled)\n",
    "a22, uci2 = fit_sample_model(UCIsample2_clean, skb_scaled)\n",
    "a33, uci3 = fit_sample_model(UCIsample3_clean, skb_scaled)\n",
    "\n",
    "skb_DB_union = list(set(db1) | set(db2) | set(db3))\n",
    "skb_UCI_union = list(set(uci1) | set(uci2) | set(uci3))\n",
    "\n",
    "display('DB SKB features',skb_DB_union)\n",
    "display('UCI SKB features',skb_UCI_union)"
   ]
  },
  {
   "cell_type": "code",
   "execution_count": 27,
   "metadata": {},
   "outputs": [],
   "source": [
    "# an example pvalue chart is shown below for UCI"
   ]
  },
  {
   "cell_type": "code",
   "execution_count": 28,
   "metadata": {},
   "outputs": [
    {
     "data": {
      "image/png": "[encoded data removed]",
      "text/plain": [
       "<matplotlib.figure.Figure at 0x7fde1ada5400>"
      ]
     },
     "metadata": {},
     "output_type": "display_data"
    }
   ],
   "source": [
    "pvals = list(a33.named_steps['feature_selection'].pvalues_)\n",
    "pvals.sort()\n",
    "line_loc = 0.05\n",
    "\n",
    "plt.figure(figsize=(10,8))\n",
    "plt.bar(range(0,20), a33.named_steps['feature_selection'].pvalues_, label = 'ANOVA F-Test P-Value')\n",
    "plt.axhline(line_loc, c='r', ls = '--', label = 'threshold')\n",
    "plt.xticks(range(0,20))\n",
    "plt.xlabel('Feature', fontsize=15)\n",
    "plt.ylabel('ANOVA F-Test P-Value')\n",
    "plt.legend()\n",
    "plt.show()"
   ]
  },
  {
   "cell_type": "code",
   "execution_count": 29,
   "metadata": {
    "scrolled": true
   },
   "outputs": [
    {
     "data": {
      "text/plain": [
       "'DB SP features'"
      ]
     },
     "metadata": {},
     "output_type": "display_data"
    },
    {
     "data": {
      "text/plain": [
       "[1, 5, 10, 11, 14, 15, 16, 18]"
      ]
     },
     "metadata": {},
     "output_type": "display_data"
    },
    {
     "data": {
      "text/plain": [
       "'UCI SP features'"
      ]
     },
     "metadata": {},
     "output_type": "display_data"
    },
    {
     "data": {
      "text/plain": [
       "[2, 3, 4, 6, 9, 10, 13, 15, 18, 19]"
      ]
     },
     "metadata": {},
     "output_type": "display_data"
    }
   ],
   "source": [
    "a1, db1 = fit_sample_model(DBsample1_clean, sp_scaled)\n",
    "a2, db2 = fit_sample_model(DBsample2_clean, sp_scaled)\n",
    "a3, db3 = fit_sample_model(DBsample3_clean, sp_scaled)\n",
    "a11, uci1 = fit_sample_model(UCIsample1_clean, sp_scaled)\n",
    "a22, uci2 = fit_sample_model(UCIsample2_clean, sp_scaled)\n",
    "a33, uci3 = fit_sample_model(UCIsample3_clean, sp_scaled)\n",
    "\n",
    "sp_DB_union = list(set(db1) | set(db2) | set(db3))\n",
    "sp_UCI_union = list(set(uci1) | set(uci2) | set(uci3))\n",
    "\n",
    "display('DB SP features',sp_DB_union)\n",
    "display('UCI SP features',sp_UCI_union)"
   ]
  },
  {
   "cell_type": "code",
   "execution_count": 30,
   "metadata": {},
   "outputs": [
    {
     "data": {
      "text/plain": [
       "'DB SFM features'"
      ]
     },
     "metadata": {},
     "output_type": "display_data"
    },
    {
     "data": {
      "text/plain": [
       "[]"
      ]
     },
     "metadata": {},
     "output_type": "display_data"
    },
    {
     "data": {
      "text/plain": [
       "'UCI SFM features'"
      ]
     },
     "metadata": {},
     "output_type": "display_data"
    },
    {
     "data": {
      "text/plain": [
       "[]"
      ]
     },
     "metadata": {},
     "output_type": "display_data"
    }
   ],
   "source": [
    "a1, db1 = fit_sample_model(DBsample1_clean, sfm_scaled)\n",
    "a2, db2 = fit_sample_model(DBsample2_clean, sfm_scaled)\n",
    "a3, db3 = fit_sample_model(DBsample3_clean, sfm_scaled)\n",
    "a11, uci1 = fit_sample_model(UCIsample1_clean, sfm_scaled)\n",
    "a22, uci2 = fit_sample_model(UCIsample2_clean, sfm_scaled)\n",
    "a33, uci3 = fit_sample_model(UCIsample3_clean, sfm_scaled)\n",
    "\n",
    "sfm_DB_union = list(set(db1) | set(db2) | set(db3))\n",
    "sfm_UCI_union = list(set(uci1) | set(uci2) | set(uci3))\n",
    "\n",
    "display('DB SFM features',sfm_DB_union)\n",
    "display('UCI SFM features',sfm_UCI_union)"
   ]
  },
  {
   "cell_type": "code",
   "execution_count": 9,
   "metadata": {},
   "outputs": [
    {
     "data": {
      "text/plain": [
       "[]"
      ]
     },
     "metadata": {},
     "output_type": "display_data"
    },
    {
     "data": {
      "text/plain": [
       "[1, 5, 10, 11, 14, 15, 16, 18]"
      ]
     },
     "metadata": {},
     "output_type": "display_data"
    },
    {
     "data": {
      "text/plain": [
       "[1, 5, 10, 11, 14, 15, 16, 18]"
      ]
     },
     "metadata": {},
     "output_type": "display_data"
    },
    {
     "data": {
      "text/plain": [
       "[]"
      ]
     },
     "execution_count": 9,
     "metadata": {},
     "output_type": "execute_result"
    }
   ],
   "source": [
    "# Final lists: database.  An exclusive list still hasn't selected down to 5 features, but SFM didn't provide much \n",
    "# help.  Overall, SelectPercentile and SelectKBest were the most consistent.\n",
    "\n",
    "display((sfm_DB_union), (sp_DB_union), (skb_DB_union))\n",
    "\n",
    "list(set(sfm_DB_union) & set(sp_DB_union) & set(skb_DB_union))"
   ]
  },
  {
   "cell_type": "code",
   "execution_count": 10,
   "metadata": {},
   "outputs": [
    {
     "data": {
      "text/plain": [
       "[]"
      ]
     },
     "metadata": {},
     "output_type": "display_data"
    },
    {
     "data": {
      "text/plain": [
       "[2, 3, 4, 6, 9, 10, 13, 15, 18, 19]"
      ]
     },
     "metadata": {},
     "output_type": "display_data"
    },
    {
     "data": {
      "text/plain": [
       "[2, 3, 4, 6, 9, 10, 13, 15, 18, 19]"
      ]
     },
     "metadata": {},
     "output_type": "display_data"
    },
    {
     "data": {
      "text/plain": [
       "[]"
      ]
     },
     "execution_count": 10,
     "metadata": {},
     "output_type": "execute_result"
    }
   ],
   "source": [
    "# Final lists: UCI.  An inclusive list selected almost all 20 features, making it essentially worthless, so I opted\n",
    "# for an exclusive list of features that appeared in all 3 models.  Overall, SelectPercentile and SelectKBest\n",
    "# seemed to be the most consistent and useful in feature reduction.\n",
    "\n",
    "display((sfm_UCI_union), (sp_UCI_union), (skb_UCI_union))\n",
    "\n",
    "list(set(sfm_UCI_union) & set(sp_UCI_union) & set(skb_UCI_union))"
   ]
  },
  {
   "cell_type": "code",
   "execution_count": 11,
   "metadata": {},
   "outputs": [],
   "source": [
    "DB_features = list(set(sfm_DB_union) & set(sp_DB_union) & set(skb_DB_union))\n",
    "UCI_features = list(set(sfm_UCI_union) & set(sp_UCI_union) & set(skb_UCI_union))\n",
    "\n",
    "pickle.dump(DB_features, open('DB_features', \"wb\" ) )\n",
    "pickle.dump(UCI_features, open('UCI_features', \"wb\" ) )"
   ]
  },
  {
   "cell_type": "code",
   "execution_count": 12,
   "metadata": {},
   "outputs": [],
   "source": [
    "# As expected, these selected features show little correlation with one another.  Two example plots demonstrating this\n",
    "# are reproduced below."
   ]
  },
  {
   "cell_type": "code",
   "execution_count": 13,
   "metadata": {},
   "outputs": [
    {
     "ename": "ValueError",
     "evalue": "zero-size array to reduction operation minimum which has no identity",
     "output_type": "error",
     "traceback": [
      "\u001b[0;31m---------------------------------------------------------------------------\u001b[0m",
      "\u001b[0;31mValueError\u001b[0m                                Traceback (most recent call last)",
      "\u001b[0;32m<ipython-input-13-00f46ea57ba4>\u001b[0m in \u001b[0;36m<module>\u001b[0;34m()\u001b[0m\n\u001b[1;32m      6\u001b[0m \u001b[0;32mwith\u001b[0m \u001b[0msns\u001b[0m\u001b[0;34m.\u001b[0m\u001b[0maxes_style\u001b[0m\u001b[0;34m(\u001b[0m\u001b[0;34m\"white\"\u001b[0m\u001b[0;34m)\u001b[0m\u001b[0;34m:\u001b[0m\u001b[0;34m\u001b[0m\u001b[0m\n\u001b[1;32m      7\u001b[0m     ax = sns.heatmap(corr, mask=mask, square=True, annot=True,\n\u001b[0;32m----> 8\u001b[0;31m                      cmap='RdBu', fmt='+.3f')\n\u001b[0m\u001b[1;32m      9\u001b[0m     \u001b[0mplt\u001b[0m\u001b[0;34m.\u001b[0m\u001b[0mxticks\u001b[0m\u001b[0;34m(\u001b[0m\u001b[0mrotation\u001b[0m\u001b[0;34m=\u001b[0m\u001b[0;36m45\u001b[0m\u001b[0;34m,\u001b[0m \u001b[0mha\u001b[0m\u001b[0;34m=\u001b[0m\u001b[0;34m'center'\u001b[0m\u001b[0;34m)\u001b[0m\u001b[0;34m\u001b[0m\u001b[0m\n",
      "\u001b[0;32m/opt/conda/lib/python3.6/site-packages/seaborn/matrix.py\u001b[0m in \u001b[0;36mheatmap\u001b[0;34m(data, vmin, vmax, cmap, center, robust, annot, fmt, annot_kws, linewidths, linecolor, cbar, cbar_kws, cbar_ax, square, ax, xticklabels, yticklabels, mask, **kwargs)\u001b[0m\n\u001b[1;32m    483\u001b[0m     plotter = _HeatMapper(data, vmin, vmax, cmap, center, robust, annot, fmt,\n\u001b[1;32m    484\u001b[0m                           \u001b[0mannot_kws\u001b[0m\u001b[0;34m,\u001b[0m \u001b[0mcbar\u001b[0m\u001b[0;34m,\u001b[0m \u001b[0mcbar_kws\u001b[0m\u001b[0;34m,\u001b[0m \u001b[0mxticklabels\u001b[0m\u001b[0;34m,\u001b[0m\u001b[0;34m\u001b[0m\u001b[0m\n\u001b[0;32m--> 485\u001b[0;31m                           yticklabels, mask)\n\u001b[0m\u001b[1;32m    486\u001b[0m \u001b[0;34m\u001b[0m\u001b[0m\n\u001b[1;32m    487\u001b[0m     \u001b[0;31m# Add the pcolormesh kwargs here\u001b[0m\u001b[0;34m\u001b[0m\u001b[0;34m\u001b[0m\u001b[0m\n",
      "\u001b[0;32m/opt/conda/lib/python3.6/site-packages/seaborn/matrix.py\u001b[0m in \u001b[0;36m__init__\u001b[0;34m(self, data, vmin, vmax, cmap, center, robust, annot, fmt, annot_kws, cbar, cbar_kws, xticklabels, yticklabels, mask)\u001b[0m\n\u001b[1;32m    165\u001b[0m         \u001b[0;31m# Determine good default values for the colormapping\u001b[0m\u001b[0;34m\u001b[0m\u001b[0;34m\u001b[0m\u001b[0m\n\u001b[1;32m    166\u001b[0m         self._determine_cmap_params(plot_data, vmin, vmax,\n\u001b[0;32m--> 167\u001b[0;31m                                     cmap, center, robust)\n\u001b[0m\u001b[1;32m    168\u001b[0m \u001b[0;34m\u001b[0m\u001b[0m\n\u001b[1;32m    169\u001b[0m         \u001b[0;31m# Sort out the annotations\u001b[0m\u001b[0;34m\u001b[0m\u001b[0;34m\u001b[0m\u001b[0m\n",
      "\u001b[0;32m/opt/conda/lib/python3.6/site-packages/seaborn/matrix.py\u001b[0m in \u001b[0;36m_determine_cmap_params\u001b[0;34m(self, plot_data, vmin, vmax, cmap, center, robust)\u001b[0m\n\u001b[1;32m    204\u001b[0m         \u001b[0mcalc_data\u001b[0m \u001b[0;34m=\u001b[0m \u001b[0mplot_data\u001b[0m\u001b[0;34m.\u001b[0m\u001b[0mdata\u001b[0m\u001b[0;34m[\u001b[0m\u001b[0;34m~\u001b[0m\u001b[0mnp\u001b[0m\u001b[0;34m.\u001b[0m\u001b[0misnan\u001b[0m\u001b[0;34m(\u001b[0m\u001b[0mplot_data\u001b[0m\u001b[0;34m.\u001b[0m\u001b[0mdata\u001b[0m\u001b[0;34m)\u001b[0m\u001b[0;34m]\u001b[0m\u001b[0;34m\u001b[0m\u001b[0m\n\u001b[1;32m    205\u001b[0m         \u001b[0;32mif\u001b[0m \u001b[0mvmin\u001b[0m \u001b[0;32mis\u001b[0m \u001b[0;32mNone\u001b[0m\u001b[0;34m:\u001b[0m\u001b[0;34m\u001b[0m\u001b[0m\n\u001b[0;32m--> 206\u001b[0;31m             \u001b[0mvmin\u001b[0m \u001b[0;34m=\u001b[0m \u001b[0mnp\u001b[0m\u001b[0;34m.\u001b[0m\u001b[0mpercentile\u001b[0m\u001b[0;34m(\u001b[0m\u001b[0mcalc_data\u001b[0m\u001b[0;34m,\u001b[0m \u001b[0;36m2\u001b[0m\u001b[0;34m)\u001b[0m \u001b[0;32mif\u001b[0m \u001b[0mrobust\u001b[0m \u001b[0;32melse\u001b[0m \u001b[0mcalc_data\u001b[0m\u001b[0;34m.\u001b[0m\u001b[0mmin\u001b[0m\u001b[0;34m(\u001b[0m\u001b[0;34m)\u001b[0m\u001b[0;34m\u001b[0m\u001b[0m\n\u001b[0m\u001b[1;32m    207\u001b[0m         \u001b[0;32mif\u001b[0m \u001b[0mvmax\u001b[0m \u001b[0;32mis\u001b[0m \u001b[0;32mNone\u001b[0m\u001b[0;34m:\u001b[0m\u001b[0;34m\u001b[0m\u001b[0m\n\u001b[1;32m    208\u001b[0m             \u001b[0mvmax\u001b[0m \u001b[0;34m=\u001b[0m \u001b[0mnp\u001b[0m\u001b[0;34m.\u001b[0m\u001b[0mpercentile\u001b[0m\u001b[0;34m(\u001b[0m\u001b[0mcalc_data\u001b[0m\u001b[0;34m,\u001b[0m \u001b[0;36m98\u001b[0m\u001b[0;34m)\u001b[0m \u001b[0;32mif\u001b[0m \u001b[0mrobust\u001b[0m \u001b[0;32melse\u001b[0m \u001b[0mcalc_data\u001b[0m\u001b[0;34m.\u001b[0m\u001b[0mmax\u001b[0m\u001b[0;34m(\u001b[0m\u001b[0;34m)\u001b[0m\u001b[0;34m\u001b[0m\u001b[0m\n",
      "\u001b[0;32m/opt/conda/lib/python3.6/site-packages/numpy/core/_methods.py\u001b[0m in \u001b[0;36m_amin\u001b[0;34m(a, axis, out, keepdims)\u001b[0m\n\u001b[1;32m     27\u001b[0m \u001b[0;34m\u001b[0m\u001b[0m\n\u001b[1;32m     28\u001b[0m \u001b[0;32mdef\u001b[0m \u001b[0m_amin\u001b[0m\u001b[0;34m(\u001b[0m\u001b[0ma\u001b[0m\u001b[0;34m,\u001b[0m \u001b[0maxis\u001b[0m\u001b[0;34m=\u001b[0m\u001b[0;32mNone\u001b[0m\u001b[0;34m,\u001b[0m \u001b[0mout\u001b[0m\u001b[0;34m=\u001b[0m\u001b[0;32mNone\u001b[0m\u001b[0;34m,\u001b[0m \u001b[0mkeepdims\u001b[0m\u001b[0;34m=\u001b[0m\u001b[0;32mFalse\u001b[0m\u001b[0;34m)\u001b[0m\u001b[0;34m:\u001b[0m\u001b[0;34m\u001b[0m\u001b[0m\n\u001b[0;32m---> 29\u001b[0;31m     \u001b[0;32mreturn\u001b[0m \u001b[0mumr_minimum\u001b[0m\u001b[0;34m(\u001b[0m\u001b[0ma\u001b[0m\u001b[0;34m,\u001b[0m \u001b[0maxis\u001b[0m\u001b[0;34m,\u001b[0m \u001b[0;32mNone\u001b[0m\u001b[0;34m,\u001b[0m \u001b[0mout\u001b[0m\u001b[0;34m,\u001b[0m \u001b[0mkeepdims\u001b[0m\u001b[0;34m)\u001b[0m\u001b[0;34m\u001b[0m\u001b[0m\n\u001b[0m\u001b[1;32m     30\u001b[0m \u001b[0;34m\u001b[0m\u001b[0m\n\u001b[1;32m     31\u001b[0m \u001b[0;32mdef\u001b[0m \u001b[0m_sum\u001b[0m\u001b[0;34m(\u001b[0m\u001b[0ma\u001b[0m\u001b[0;34m,\u001b[0m \u001b[0maxis\u001b[0m\u001b[0;34m=\u001b[0m\u001b[0;32mNone\u001b[0m\u001b[0;34m,\u001b[0m \u001b[0mdtype\u001b[0m\u001b[0;34m=\u001b[0m\u001b[0;32mNone\u001b[0m\u001b[0;34m,\u001b[0m \u001b[0mout\u001b[0m\u001b[0;34m=\u001b[0m\u001b[0;32mNone\u001b[0m\u001b[0;34m,\u001b[0m \u001b[0mkeepdims\u001b[0m\u001b[0;34m=\u001b[0m\u001b[0;32mFalse\u001b[0m\u001b[0;34m)\u001b[0m\u001b[0;34m:\u001b[0m\u001b[0;34m\u001b[0m\u001b[0m\n",
      "\u001b[0;31mValueError\u001b[0m: zero-size array to reduction operation minimum which has no identity"
     ]
    },
    {
     "data": {
      "image/png": "[encoded data removed]",
      "text/plain": [
       "<matplotlib.figure.Figure at 0x7fde1ddd0208>"
      ]
     },
     "metadata": {},
     "output_type": "display_data"
    }
   ],
   "source": [
    "corr = UCIsample3[UCI_features].corr()\n",
    "# corr = UCIsample3_clean.corr()\n",
    "mask = np.zeros_like(corr)\n",
    "mask[np.triu_indices_from(mask, 1)] = True\n",
    "plt.subplots(figsize=(10,10))\n",
    "with sns.axes_style(\"white\"):\n",
    "    ax = sns.heatmap(corr, mask=mask, square=True, annot=True,\n",
    "                     cmap='RdBu', fmt='+.3f')\n",
    "    plt.xticks(rotation=45, ha='center')"
   ]
  },
  {
   "cell_type": "code",
   "execution_count": null,
   "metadata": {},
   "outputs": [],
   "source": [
    "corr = DBsample1[DB_features].corr()\n",
    "mask = np.zeros_like(corr)\n",
    "mask[np.triu_indices_from(mask, 1)] = True\n",
    "plt.subplots(figsize=(10,10))\n",
    "with sns.axes_style(\"white\"):\n",
    "    ax = sns.heatmap(corr, mask=mask, square=True, annot=True,\n",
    "                     cmap='RdBu', fmt='+.3f')\n",
    "    plt.xticks(rotation=45, ha='center')\n"
   ]
  },
  {
   "cell_type": "code",
   "execution_count": 14,
   "metadata": {},
   "outputs": [],
   "source": [
    "# doing PCA as an alternate feature selection method\n",
    "from sklearn.decomposition import PCA\n",
    "\n",
    "pca = PCA(n_components=20)\n",
    "\n",
    "def fit_sample_model(sample, model):\n",
    "    y = sample.iloc[:,-1]\n",
    "    X = sample.iloc[:,0:-1]\n",
    "    model.fit(X)\n",
    "    X_pca = pca.fit_transform(X)\n",
    "    return model.fit(X), X.shape, X_pca.shape, X_pca"
   ]
  },
  {
   "cell_type": "code",
   "execution_count": 15,
   "metadata": {
    "scrolled": true
   },
   "outputs": [
    {
     "data": {
      "text/plain": [
       "(PCA(copy=True, iterated_power='auto', n_components=20, random_state=None,\n",
       "   svd_solver='auto', tol=0.0, whiten=False),\n",
       " (200, 20),\n",
       " (200, 20),\n",
       " array([[ -7.48860579e+01,   7.88670979e+01,  -2.68584805e+02, ...,\n",
       "           4.89043076e-02,   1.19711964e+00,  -1.78358036e-01],\n",
       "        [ -4.46966035e+01,   2.12098739e+02,   1.60899262e+02, ...,\n",
       "           2.04718107e+00,   8.79344214e-01,  -2.14517066e-01],\n",
       "        [ -1.89053938e+02,  -1.83955095e+02,  -2.72685277e+02, ...,\n",
       "          -1.78897344e+00,   1.43277493e+00,   2.37725798e-01],\n",
       "        ..., \n",
       "        [ -3.50847819e+02,   1.26864464e+02,  -6.65340099e+01, ...,\n",
       "          -1.61011860e+00,  -3.39473929e+00,   4.04017956e-01],\n",
       "        [ -6.34489015e+01,   2.49091032e+02,   4.33838825e+01, ...,\n",
       "           5.42519209e-01,  -4.82892508e-01,   5.93380625e-01],\n",
       "        [  1.06041793e+02,   1.10871807e+02,   1.10573605e+02, ...,\n",
       "           2.01045981e+00,  -1.35823528e+00,  -1.25407764e+00]]))"
      ]
     },
     "execution_count": 15,
     "metadata": {},
     "output_type": "execute_result"
    }
   ],
   "source": [
    "fit_sample_model(UCIsample1_clean, pca)"
   ]
  },
  {
   "cell_type": "code",
   "execution_count": 16,
   "metadata": {},
   "outputs": [
    {
     "data": {
      "text/plain": [
       "array([  3.89023242e-01,   3.23458296e-01,   1.67683820e-01,\n",
       "         7.32623390e-02,   4.03068867e-02,   1.21521821e-03,\n",
       "         1.02164664e-03,   7.00222558e-04,   6.45821521e-04,\n",
       "         5.77057803e-04,   4.77836413e-04,   4.40713477e-04,\n",
       "         3.97407263e-04,   2.45831477e-04,   1.87882616e-04,\n",
       "         1.70780955e-04,   1.38813834e-04,   2.54077082e-05,\n",
       "         1.34768571e-05,   7.29805106e-06])"
      ]
     },
     "execution_count": 16,
     "metadata": {},
     "output_type": "execute_result"
    }
   ],
   "source": [
    "exp_var = pca.explained_variance_ratio_\n",
    "exp_var"
   ]
  },
  {
   "cell_type": "code",
   "execution_count": 17,
   "metadata": {},
   "outputs": [
    {
     "data": {
      "image/png": "[encoded data removed]",
      "text/plain": [
       "<matplotlib.figure.Figure at 0x7fde1b0a2080>"
      ]
     },
     "metadata": {},
     "output_type": "display_data"
    }
   ],
   "source": [
    "fig, ax = plt.subplots(figsize=(8,6))\n",
    "ax.plot(range(1, len(exp_var)+1), exp_var, lw=2)\n",
    "ax.scatter(range(1, len(exp_var)+1), exp_var, s=120)\n",
    "ax.set_title('Explained variance pct\\n', fontsize=20)\n",
    "ax.set_xlabel('Principal Component', fontsize=16)\n",
    "ax.set_ylabel('Variance Explained (%)', fontsize=16)\n",
    "plt.show()"
   ]
  },
  {
   "cell_type": "code",
   "execution_count": 18,
   "metadata": {},
   "outputs": [],
   "source": [
    "# um, this is much better.  using this instead!!!"
   ]
  },
  {
   "cell_type": "code",
   "execution_count": null,
   "metadata": {},
   "outputs": [],
   "source": []
  }
 ],
 "metadata": {
  "kernelspec": {
   "display_name": "Python 3",
   "language": "python",
   "name": "python3"
  },
  "language_info": {
   "codemirror_mode": {
    "name": "ipython",
    "version": 3
   },
   "file_extension": ".py",
   "mimetype": "text/x-python",
   "name": "python",
   "nbconvert_exporter": "python",
   "pygments_lexer": "ipython3",
   "version": "3.6.2"
  }
 },
 "nbformat": 4,
 "nbformat_minor": 2
}
